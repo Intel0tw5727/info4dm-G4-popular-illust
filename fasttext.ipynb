{
 "cells": [
  {
   "cell_type": "markdown",
   "metadata": {},
   "source": [
    "### ファイル変換"
   ]
  },
  {
   "cell_type": "code",
   "execution_count": 2,
   "metadata": {
    "collapsed": true
   },
   "outputs": [],
   "source": [
    "import numpy as np\n",
    "import fasttext"
   ]
  },
  {
   "cell_type": "code",
   "execution_count": 3,
   "metadata": {
    "collapsed": true
   },
   "outputs": [],
   "source": [
    "f = open('tags.txt','r')\n",
    "tags = f.read()"
   ]
  },
  {
   "cell_type": "code",
   "execution_count": 4,
   "metadata": {},
   "outputs": [],
   "source": [
    "tags_change = tags.replace(',','').replace('[','').replace(']','').replace(\"'\",\"\").replace(' ','\\n')"
   ]
  },
  {
   "cell_type": "code",
   "execution_count": 6,
   "metadata": {},
   "outputs": [
    {
     "name": "stdout",
     "output_type": "stream",
     "text": [
      "オリジナル\n",
      "ピクシブたん10\n",
      "ピクシブたん\n",
      "マニキュア\n",
      "pixiv10周年\n",
      "ピース\n",
      "青髪ロング\n",
      "ガーターリング\n",
      "素晴らしすぎる\n",
      "オリジナル5000users入り\n",
      "Fate/EXTELLA\n",
      "アルテラ\n",
      "尻神様\n",
      "アルテラ(Fate)\n",
      "テラ美乳\n",
      "エロ衣装\n",
      "長手袋\n",
      "Fate/EXTELLA1000users入り\n",
      "顔を埋めたい股間\n",
      "極上の女体\n",
      "コードギアス\n",
      "王剣盾\n",
      "ルルーシュ・ヴィ・ブリタニア\n",
      "C.C.\n",
      "コードギアス5000users入り\n",
      "スザク\n",
      "不可能→奇跡\n",
      "背景\n",
      "風景\n",
      "オリジナル\n",
      "秋\n",
      "金木犀\n",
      "川原\n",
      "鉄橋\n",
      "秋風\n",
      "オリジナル5000users入り\n",
      "異世界迷宮の最深部を目指そう\n",
      "オーバーラップ文庫\n",
      "小説家になろう\n",
      "いぶそう\n",
      "クリック推奨\n",
      "いぶそう1000users入り\n",
      "ノスフィー\n",
      "ダークファンタジー\n",
      "小説家になろう10000users入り\n",
      "FGO\n",
      "Fate/GrandOrder\n",
      "巨乳\n",
      "スカサハ\n",
      "たてセタ\n",
      "リブ生地\n",
      "Fate/GO5000users入り\n",
      "CLIPSTUDIOPAINT\n",
      "たくしあげ\n",
      "95式\n",
      "少女前線\n",
      "魅惑の谷間\n",
      "少女前线\n",
      "黒髪ロング\n",
      "CLIPSTUDIOPAINT\n",
      "少女前線5000users入り\n",
      "Fate/GrandOrder\n",
      "FGO\n",
      "マシュ\n",
      "マシュ・キリエライト\n",
      "デンジャラス・ビースト\n",
      "Fate/GO1000users入り\n",
      "尻神様\n",
      "狼耳\n",
      "ドスケベ礼装\n",
      "Fate/GO5000users入り\n",
      "少女前线\n",
      "少女前線\n",
      "DSR-50\n",
      "Contender\n",
      "おっぱい\n",
      "オリジナル\n",
      "嫌な顔されながらおパンツ見せてもらいたいシリーズ\n",
      "メイド\n",
      "嫌パン\n",
      "尻神様\n",
      "ガーターベルト\n",
      "オリジナル5000users入り\n",
      "ニラマレ\n",
      "クロッチ\n",
      "高品質パンツ\n",
      "オリジナル\n",
      "エルフ\n",
      "パンツ\n",
      "エロフ\n",
      "尻神様\n",
      "金髪ロング\n",
      "おっぱい\n",
      "腋\n",
      "ねじ込みたい尻\n",
      "オリジナル10000users入り\n",
      "Fate/GrandOrder\n",
      "スカサハ\n",
      "魅惑の谷間\n",
      "撫で回したいお腹\n",
      "Fate/GO5000users入り\n",
      "指を突っ込みたいへそ\n"
     ]
    }
   ],
   "source": [
    "print(tags_change)"
   ]
  },
  {
   "cell_type": "code",
   "execution_count": 7,
   "metadata": {},
   "outputs": [
    {
     "data": {
      "text/plain": [
       "str"
      ]
     },
     "execution_count": 7,
     "metadata": {},
     "output_type": "execute_result"
    }
   ],
   "source": [
    "type(tags_change)"
   ]
  },
  {
   "cell_type": "code",
   "execution_count": 8,
   "metadata": {
    "collapsed": true
   },
   "outputs": [],
   "source": [
    "f = open('tags_change.txt','w')\n",
    "f.writelines(tags_change)\n",
    "f.close()"
   ]
  },
  {
   "cell_type": "markdown",
   "metadata": {},
   "source": [
    "### fasttext学習"
   ]
  },
  {
   "cell_type": "code",
   "execution_count": 20,
   "metadata": {},
   "outputs": [],
   "source": [
    "#model = fasttext.skipgram('tags_change.txt','tags')\n",
    "model = fasttext.skipgram(\"data.txt\",\"model\")"
   ]
  },
  {
   "cell_type": "code",
   "execution_count": 21,
   "metadata": {},
   "outputs": [
    {
     "name": "stdout",
     "output_type": "stream",
     "text": [
      "{'</s>'}\n"
     ]
    }
   ],
   "source": [
    "print(model.words)"
   ]
  },
  {
   "cell_type": "code",
   "execution_count": null,
   "metadata": {
    "collapsed": true
   },
   "outputs": [],
   "source": []
  }
 ],
 "metadata": {
  "kernelspec": {
   "display_name": "Python 3",
   "language": "python",
   "name": "python3"
  },
  "language_info": {
   "codemirror_mode": {
    "name": "ipython",
    "version": 3
   },
   "file_extension": ".py",
   "mimetype": "text/x-python",
   "name": "python",
   "nbconvert_exporter": "python",
   "pygments_lexer": "ipython3",
   "version": "3.6.1"
  }
 },
 "nbformat": 4,
 "nbformat_minor": 2
}
