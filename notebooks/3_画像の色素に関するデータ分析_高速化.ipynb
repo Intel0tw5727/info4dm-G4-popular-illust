{
 "cells": [
  {
   "cell_type": "code",
   "execution_count": 1,
   "metadata": {
    "collapsed": true
   },
   "outputs": [],
   "source": [
    "#%matplotlib inline\n",
    "import pandas as pd\n",
    "import numpy as np\n",
    "import seaborn as sns\n",
    "import matplotlib.pyplot as plt\n",
    "from mpl_toolkits.mplot3d import Axes3D\n",
    "from sklearn.cluster import KMeans\n",
    "import cv2\n",
    "import os\n",
    "import sys\n",
    "from tqdm import tqdm_notebook as tqdm\n",
    "\n",
    "plt.style.use(\"ggplot\")"
   ]
  },
  {
   "cell_type": "markdown",
   "metadata": {},
   "source": [
    "### 前処理"
   ]
  },
  {
   "cell_type": "code",
   "execution_count": 2,
   "metadata": {
    "collapsed": true
   },
   "outputs": [],
   "source": [
    "def preprocess(img_rgb):\n",
    "    n = 2\n",
    "    img_rgb = cv2.resize(img_rgb, (img.shape[1]//n, img.shape[0]//n))\n",
    "    # normalize\n",
    "    img_rgb_norm = img_rgb / 255.0\n",
    "    return img_rgb_norm"
   ]
  },
  {
   "cell_type": "markdown",
   "metadata": {},
   "source": [
    "### K-mean法に最適なクラスタ数を計算させる関数"
   ]
  },
  {
   "cell_type": "code",
   "execution_count": 3,
   "metadata": {
    "collapsed": true
   },
   "outputs": [],
   "source": [
    "import matplotlib.ticker as ticker"
   ]
  },
  {
   "cell_type": "code",
   "execution_count": 4,
   "metadata": {
    "collapsed": true
   },
   "outputs": [],
   "source": [
    "def decide_clusters(rgb_array):\n",
    "    for i in range(1, MAX_CLST+1):\n",
    "        predict = KMeans(n_clusters=i,\n",
    "                        init=\"k-means++\",\n",
    "                        n_init=MAX_CLST,\n",
    "                        max_iter=300,\n",
    "                        random_state=98)\n",
    "        predict.fit(rgb_array)\n",
    "        \n",
    "        if i == 1:\n",
    "            param_prev = predict.inertia_\n",
    "        else:\n",
    "            param_next = predict.inertia_\n",
    "            diff = param_prev - param_next\n",
    "            \n",
    "            if param_next > diff:\n",
    "                return i\n",
    "            else:\n",
    "                param_prev = param_next\n",
    "            \n",
    "#         dist.append(predict.inertia_)\n",
    "        \n",
    "def plot_RSS(dist, img_path):\n",
    "    plt.figure(figsize=(16,8))\n",
    "    plt.gca().get_xaxis().set_major_locator(ticker.MaxNLocator(integer=True))\n",
    "    plt.xlabel('Number of clusters')\n",
    "    plt.ylabel('Distortion')\n",
    "    plt.plot(range(1,MAX_CLST+1),dist[:],marker='o')\n",
    "    plt.savefig(\"{}_elbow.png\".format(img_path))\n",
    "    \n",
    "# def k_optimize(dist):\n",
    "#     diff = np.array(dist[:-1]) - np.array(dist[1:])\n",
    "#     for i, param in enumerate(dist[1:]):\n",
    "#         if param > diff[i]:\n",
    "#             return i+1"
   ]
  },
  {
   "cell_type": "markdown",
   "metadata": {},
   "source": [
    "## K-means法による画素に関するクラスタリング"
   ]
  },
  {
   "cell_type": "code",
   "execution_count": 5,
   "metadata": {},
   "outputs": [
    {
     "name": "stdout",
     "output_type": "stream",
     "text": [
      "Start 20170922\n"
     ]
    },
    {
     "data": {
      "application/vnd.jupyter.widget-view+json": {
       "model_id": "2025e69cae7b40e9a6c3822c871f41e6",
       "version_major": 2,
       "version_minor": 0
      },
      "text/plain": [
       "A Jupyter Widget"
      ]
     },
     "metadata": {},
     "output_type": "display_data"
    },
    {
     "name": "stderr",
     "output_type": "stream",
     "text": [
      "/Users/Kakutofu/.pyenv/versions/anaconda3-5.0.0/lib/python3.6/site-packages/matplotlib/pyplot.py:524: RuntimeWarning: More than 20 figures have been opened. Figures created through the pyplot interface (`matplotlib.pyplot.figure`) are retained until explicitly closed and may consume too much memory. (To control this warning, see the rcParam `figure.max_open_warning`).\n",
      "  max_open_warning, RuntimeWarning)\n"
     ]
    },
    {
     "name": "stdout",
     "output_type": "stream",
     "text": [
      "\n",
      "Start 20171022\n"
     ]
    },
    {
     "data": {
      "application/vnd.jupyter.widget-view+json": {
       "model_id": "1ee4058513f7417d94067f4bd283111e",
       "version_major": 2,
       "version_minor": 0
      },
      "text/plain": [
       "A Jupyter Widget"
      ]
     },
     "metadata": {},
     "output_type": "display_data"
    },
    {
     "name": "stdout",
     "output_type": "stream",
     "text": [
      "\n",
      "Start 20171122\n"
     ]
    },
    {
     "data": {
      "application/vnd.jupyter.widget-view+json": {
       "model_id": "1a3f88f6c8ae42f29c17c6f1f9a893ca",
       "version_major": 2,
       "version_minor": 0
      },
      "text/plain": [
       "A Jupyter Widget"
      ]
     },
     "metadata": {},
     "output_type": "display_data"
    },
    {
     "name": "stdout",
     "output_type": "stream",
     "text": [
      "\n",
      "Start 20171222\n"
     ]
    },
    {
     "data": {
      "application/vnd.jupyter.widget-view+json": {
       "model_id": "f1bd7f65f33449078ebdb56ddb7f29e2",
       "version_major": 2,
       "version_minor": 0
      },
      "text/plain": [
       "A Jupyter Widget"
      ]
     },
     "metadata": {},
     "output_type": "display_data"
    },
    {
     "name": "stdout",
     "output_type": "stream",
     "text": [
      "\n",
      "Start 20180122\n"
     ]
    },
    {
     "data": {
      "application/vnd.jupyter.widget-view+json": {
       "model_id": "12448c9a1b4445d88bee5e179e73338b",
       "version_major": 2,
       "version_minor": 0
      },
      "text/plain": [
       "A Jupyter Widget"
      ]
     },
     "metadata": {},
     "output_type": "display_data"
    },
    {
     "name": "stdout",
     "output_type": "stream",
     "text": [
      "\n"
     ]
    }
   ],
   "source": [
    "root_path = \"../data/download_image_monthly/\"\n",
    "flag = False\n",
    "\n",
    "for date_path in os.listdir(root_path):\n",
    "    if date_path == \".DS_Store\":\n",
    "        continue\n",
    "    print(\"Start {}\".format(date_path))\n",
    "    date = os.path.join(root_path, date_path)\n",
    "    save_path = root_path + \"result/\"\n",
    "    if os.path.isdir(save_path) == False:\n",
    "        os.makedirs(save_path)\n",
    "    date = date + \"/full/\"\n",
    "    \n",
    "    for img_path in tqdm(os.listdir(date)):\n",
    "        if date_path == \".DS_Store\":\n",
    "            continue\n",
    "        MAX_CLST = 10\n",
    "        #dist = []\n",
    "        color_list = []\n",
    "        \n",
    "        i_path = os.path.join(date, img_path)\n",
    "        img = cv2.imread(i_path)\n",
    "        img_rgb = cv2.cvtColor(img, cv2.COLOR_BGR2RGB)\n",
    "        \n",
    "        norm_img = preprocess(img_rgb)\n",
    "        \n",
    "        img_df = pd.DataFrame(norm_img.reshape(-1,3))\n",
    "        rgb_array = norm_img.reshape(-1,3)\n",
    "        \n",
    "        # elbow method\n",
    "        k = decide_clusters(rgb_array)\n",
    "        \n",
    "        data_path = os.path.join(save_path, img_path[:8])\n",
    "        #plot_RSS(dist, data_path)\n",
    "        \n",
    "        # clustering\n",
    "        #k = k_optimize(dist)\n",
    "        predict = KMeans(n_clusters=k)\n",
    "        img_df[\"cluster_id\"] = predict.fit_predict(rgb_array)\n",
    "        \n",
    "        for i in range(k):\n",
    "            rgb_mean = img_df[img_df[\"cluster_id\"] == i].mean()\n",
    "            color_list.append(rgb_mean[0:3])\n",
    "        \n",
    "        x = np.arange(1,k+1)\n",
    "        plt.figure(figsize=(16,8))\n",
    "        plt.bar(x, img_df[\"cluster_id\"].value_counts(), color=color_list, tick_label=color_list, align=\"center\")\n",
    "        plt.savefig(\"{}_clustering.png\".format(data_path))\n",
    "\n",
    "        if flag == False:\n",
    "            rgb_df = pd.DataFrame(np.array(color_list).flatten(), columns=[\"{}\".format(img_path[:8])])\n",
    "            flag = True\n",
    "        else:\n",
    "            concat_df = pd.DataFrame(np.array(color_list).flatten(), columns=[\"{}\".format(img_path[:8])])\n",
    "            rgb_df = pd.concat([rgb_df, concat_df], axis=1)\n",
    "            \n",
    "rgb_df.to_csv(\"../data/cluster_rgb.csv\")"
   ]
  }
 ],
 "metadata": {
  "kernelspec": {
   "display_name": "Python 3",
   "language": "python",
   "name": "python3"
  },
  "language_info": {
   "codemirror_mode": {
    "name": "ipython",
    "version": 3
   },
   "file_extension": ".py",
   "mimetype": "text/x-python",
   "name": "python",
   "nbconvert_exporter": "python",
   "pygments_lexer": "ipython3",
   "version": "3.6.2"
  }
 },
 "nbformat": 4,
 "nbformat_minor": 2
}
