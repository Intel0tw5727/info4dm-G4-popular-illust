{
 "cells": [
  {
   "cell_type": "markdown",
   "metadata": {},
   "source": [
    "### tags.txtから(~入り)のタグのみ取り出し"
   ]
  },
  {
   "cell_type": "code",
   "execution_count": 7,
   "metadata": {},
   "outputs": [],
   "source": [
    "import pandas as pd\n",
    "import numpy as np\n",
    "import re"
   ]
  },
  {
   "cell_type": "code",
   "execution_count": 8,
   "metadata": {
    "collapsed": true
   },
   "outputs": [],
   "source": [
    "f = open('tags_change.txt','r')\n",
    "tags = f.read()"
   ]
  },
  {
   "cell_type": "code",
   "execution_count": 20,
   "metadata": {},
   "outputs": [
    {
     "data": {
      "text/plain": [
       "'オリジナル\\nピクシブたん10\\nピクシブたん\\nマニキュア\\npixiv10周年\\nピース\\n青髪ロング\\nガーターリング\\n素晴らしすぎる\\nオリジナル5000users入り\\nFate/EXTELLA\\nアルテラ\\n尻神様\\nアルテラ(Fate)\\nテラ美乳\\nエロ衣装\\n長手袋\\nFate/EXTELLA1000users入り\\n顔を埋めたい股間\\n極上の女体\\nコードギアス\\n王剣盾\\nルルーシュ・ヴィ・ブリタニア\\nC.C.\\nコードギアス5000users入り\\nスザク\\n不可能→奇跡\\n背景\\n風景\\nオリジナル\\n秋\\n金木犀\\n川原\\n鉄橋\\n秋風\\nオリジナル5000users入り\\n異世界迷宮の最深部を目指そう\\nオーバーラップ文庫\\n小説家になろう\\nいぶそう\\nクリック推奨\\nいぶそう1000users入り\\nノスフィー\\nダークファンタジー\\n小説家になろう10000users入り\\nFGO\\nFate/GrandOrder\\n巨乳\\nスカサハ\\nたてセタ\\nリブ生地\\nFate/GO5000users入り\\nCLIPSTUDIOPAINT\\nたくしあげ\\n95式\\n少女前線\\n魅惑の谷間\\n少女前线\\n黒髪ロング\\nCLIPSTUDIOPAINT\\n少女前線5000users入り\\nFate/GrandOrder\\nFGO\\nマシュ\\nマシュ・キリエライト\\nデンジャラス・ビースト\\nFate/GO1000users入り\\n尻神様\\n狼耳\\nドスケベ礼装\\nFate/GO5000users入り\\n少女前线\\n少女前線\\nDSR-50\\nContender\\nおっぱい\\nオリジナル\\n嫌な顔されながらおパンツ見せてもらいたいシリーズ\\nメイド\\n嫌パン\\n尻神様\\nガーターベルト\\nオリジナル5000users入り\\nニラマレ\\nクロッチ\\n高品質パンツ\\nオリジナル\\nエルフ\\nパンツ\\nエロフ\\n尻神様\\n金髪ロング\\nおっぱい\\n腋\\nねじ込みたい尻\\nオリジナル10000users入り\\nFate/GrandOrder\\nスカサハ\\n魅惑の谷間\\n撫で回したいお腹\\nFate/GO5000users入り\\n指を突っ込みたいへそ'"
      ]
     },
     "execution_count": 20,
     "metadata": {},
     "output_type": "execute_result"
    }
   ],
   "source": [
    "tags"
   ]
  },
  {
   "cell_type": "code",
   "execution_count": 23,
   "metadata": {},
   "outputs": [],
   "source": [
    "words = re.split(r'\\n', tags.lower())"
   ]
  },
  {
   "cell_type": "code",
   "execution_count": 33,
   "metadata": {},
   "outputs": [
    {
     "name": "stdout",
     "output_type": "stream",
     "text": [
      "オリジナル\n",
      "ピクシブたん10\n",
      "ピクシブたん\n",
      "マニキュア\n",
      "pixiv10周年\n",
      "ピース\n",
      "青髪ロング\n",
      "ガーターリング\n",
      "素晴らしすぎる\n",
      "オリジナル5000users入り\n",
      "Fate/EXTELLA\n",
      "アルテラ\n",
      "尻神様\n",
      "アルテラ(Fate)\n",
      "テラ美乳\n",
      "エロ衣装\n",
      "長手袋\n",
      "Fate/EXTELLA1000users入り\n",
      "顔を埋めたい股間\n",
      "極上の女体\n",
      "コードギアス\n",
      "王剣盾\n",
      "ルルーシュ・ヴィ・ブリタニア\n",
      "C.C.\n",
      "コードギアス5000users入り\n",
      "スザク\n",
      "不可能→奇跡\n",
      "背景\n",
      "風景\n",
      "オリジナル\n",
      "秋\n",
      "金木犀\n",
      "川原\n",
      "鉄橋\n",
      "秋風\n",
      "オリジナル5000users入り\n",
      "異世界迷宮の最深部を目指そう\n",
      "オーバーラップ文庫\n",
      "小説家になろう\n",
      "いぶそう\n",
      "クリック推奨\n",
      "いぶそう1000users入り\n",
      "ノスフィー\n",
      "ダークファンタジー\n",
      "小説家になろう10000users入り\n",
      "FGO\n",
      "Fate/GrandOrder\n",
      "巨乳\n",
      "スカサハ\n",
      "たてセタ\n",
      "リブ生地\n",
      "Fate/GO5000users入り\n",
      "CLIPSTUDIOPAINT\n",
      "たくしあげ\n",
      "95式\n",
      "少女前線\n",
      "魅惑の谷間\n",
      "少女前线\n",
      "黒髪ロング\n",
      "CLIPSTUDIOPAINT\n",
      "少女前線5000users入り\n",
      "Fate/GrandOrder\n",
      "FGO\n",
      "マシュ\n",
      "マシュ・キリエライト\n",
      "デンジャラス・ビースト\n",
      "Fate/GO1000users入り\n",
      "尻神様\n",
      "狼耳\n",
      "ドスケベ礼装\n",
      "Fate/GO5000users入り\n",
      "少女前线\n",
      "少女前線\n",
      "DSR-50\n",
      "Contender\n",
      "おっぱい\n",
      "オリジナル\n",
      "嫌な顔されながらおパンツ見せてもらいたいシリーズ\n",
      "メイド\n",
      "嫌パン\n",
      "尻神様\n",
      "ガーターベルト\n",
      "オリジナル5000users入り\n",
      "ニラマレ\n",
      "クロッチ\n",
      "高品質パンツ\n",
      "オリジナル\n",
      "エルフ\n",
      "パンツ\n",
      "エロフ\n",
      "尻神様\n",
      "金髪ロング\n",
      "おっぱい\n",
      "腋\n",
      "ねじ込みたい尻\n",
      "オリジナル10000users入り\n",
      "Fate/GrandOrder\n",
      "スカサハ\n",
      "魅惑の谷間\n",
      "撫で回したいお腹\n",
      "Fate/GO5000users入り\n",
      "指を突っ込みたいへそ\n"
     ]
    }
   ],
   "source": [
    "#address3 = \"東京都千代田区 123-7777, 東京都世田谷区 567-9999\"\n",
    "#postCodeList = re.findall('[0-9]{3}-[0-9]{4}' , address3)\n",
    "#if postCodeList:\n",
    "#    print (postCodeList)\n",
    "find = re.findall('入り' , tags)\n",
    "if find:\n",
    "    print ()"
   ]
  },
  {
   "cell_type": "markdown",
   "metadata": {},
   "source": [
    "1行ずつ判別して、正の場合に丸ごと出力してみては?"
   ]
  },
  {
   "cell_type": "code",
   "execution_count": null,
   "metadata": {
    "collapsed": true
   },
   "outputs": [],
   "source": []
  }
 ],
 "metadata": {
  "kernelspec": {
   "display_name": "Python 3",
   "language": "python",
   "name": "python3"
  },
  "language_info": {
   "codemirror_mode": {
    "name": "ipython",
    "version": 3
   },
   "file_extension": ".py",
   "mimetype": "text/x-python",
   "name": "python",
   "nbconvert_exporter": "python",
   "pygments_lexer": "ipython3",
   "version": "3.6.1"
  }
 },
 "nbformat": 4,
 "nbformat_minor": 2
}
