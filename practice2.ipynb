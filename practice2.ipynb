{
 "cells": [
  {
   "cell_type": "code",
   "execution_count": 1,
   "metadata": {},
   "outputs": [
    {
     "name": "stdout",
     "output_type": "stream",
     "text": [
      "i: 0\n",
      "i: 1\n",
      "i: 2\n",
      "i: 3\n",
      "i: 4\n"
     ]
    }
   ],
   "source": [
    "#whileで条件が真の間ずっとブロック内の処理を繰り返すことができる\n",
    "i = 0\n",
    "while i < 5:\n",
    "    print(\"i:\",i)\n",
    "    i += 1"
   ]
  },
  {
   "cell_type": "markdown",
   "metadata": {},
   "source": [
    "関数"
   ]
  },
  {
   "cell_type": "code",
   "execution_count": 2,
   "metadata": {},
   "outputs": [
    {
     "name": "stdout",
     "output_type": "stream",
     "text": [
      "hello,taro-san\n",
      "hello,taro-san\n"
     ]
    }
   ],
   "source": [
    "#関数を定義することで同じ処理を何度も使いまわせる\n",
    "def hello():\n",
    "    print(\"hello,taro-san\")\n",
    "    \n",
    "hello()\n",
    "hello()"
   ]
  },
  {
   "cell_type": "code",
   "execution_count": 4,
   "metadata": {},
   "outputs": [
    {
     "name": "stdout",
     "output_type": "stream",
     "text": [
      "hello,taro-sna\n",
      "hello,hanako-sna\n",
      "hello,nanashi-sna\n"
     ]
    }
   ],
   "source": [
    "#引数を定義することで一部の値を変えた状態で同じ処理を実行できる\n",
    "#[=]でデフォルトの引数を指定することが可能\n",
    "def hello(name=\"nanashi\"):\n",
    "    print(\"hello,%s-sna\"%(name))\n",
    "\n",
    "hello(\"taro\")\n",
    "hello(\"hanako\")\n",
    "hello()"
   ]
  },
  {
   "cell_type": "code",
   "execution_count": 5,
   "metadata": {},
   "outputs": [
    {
     "name": "stdout",
     "output_type": "stream",
     "text": [
      "20 110\n"
     ]
    }
   ],
   "source": [
    "#returnで値を返すことができる\n",
    "#return以降は実行されない\n",
    "def add_10(n):\n",
    "    n_10 = n+10\n",
    "    return n_10\n",
    "\n",
    "n1 = add_10(10)\n",
    "n2 = add_10(100)\n",
    "print(n1,n2)"
   ]
  },
  {
   "cell_type": "markdown",
   "metadata": {},
   "source": [
    "やってみよう"
   ]
  },
  {
   "cell_type": "code",
   "execution_count": 6,
   "metadata": {
    "collapsed": true
   },
   "outputs": [],
   "source": [
    "def fizbuzz(n):\n",
    "    if n % 15 == 0:\n",
    "        return \"fizbuzz\"\n",
    "    elif n % 5 == 0:\n",
    "        return \"buzz\"\n",
    "    elif n % 3 == 0:\n",
    "        return \"fiz\"\n",
    "    else:\n",
    "        return n"
   ]
  },
  {
   "cell_type": "code",
   "execution_count": 7,
   "metadata": {},
   "outputs": [
    {
     "name": "stdout",
     "output_type": "stream",
     "text": [
      "1\n",
      "2\n",
      "fiz\n",
      "4\n",
      "buzz\n",
      "fiz\n",
      "7\n",
      "8\n",
      "fiz\n",
      "buzz\n",
      "11\n",
      "fiz\n",
      "13\n",
      "14\n",
      "fizbuzz\n",
      "16\n",
      "17\n",
      "fiz\n",
      "19\n",
      "buzz\n",
      "fiz\n",
      "22\n",
      "23\n",
      "fiz\n",
      "buzz\n",
      "26\n",
      "fiz\n",
      "28\n",
      "29\n",
      "fizbuzz\n"
     ]
    }
   ],
   "source": [
    "for i in range(1,31):\n",
    "    print(fizbuzz(i))"
   ]
  },
  {
   "cell_type": "markdown",
   "metadata": {},
   "source": [
    "# ビジネスにおけるデータ分析の流れ"
   ]
  },
  {
   "cell_type": "code",
   "execution_count": null,
   "metadata": {
    "collapsed": true
   },
   "outputs": [],
   "source": []
  }
 ],
 "metadata": {
  "kernelspec": {
   "display_name": "Python 3",
   "language": "python",
   "name": "python3"
  },
  "language_info": {
   "codemirror_mode": {
    "name": "ipython",
    "version": 3
   },
   "file_extension": ".py",
   "mimetype": "text/x-python",
   "name": "python",
   "nbconvert_exporter": "python",
   "pygments_lexer": "ipython3",
   "version": "3.6.1"
  }
 },
 "nbformat": 4,
 "nbformat_minor": 2
}
