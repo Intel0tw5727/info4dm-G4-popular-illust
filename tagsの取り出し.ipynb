{
 "cells": [
  {
   "cell_type": "code",
   "execution_count": 4,
   "metadata": {
    "collapsed": true
   },
   "outputs": [],
   "source": [
    "import pandas as pd\n",
    "import numpy as np\n",
    "import json"
   ]
  },
  {
   "cell_type": "code",
   "execution_count": 5,
   "metadata": {
    "collapsed": true
   },
   "outputs": [],
   "source": [
    "df = pd.read_csv(\"./meta.json\", delimiter = \"\\n\", header=None)"
   ]
  },
  {
   "cell_type": "code",
   "execution_count": 6,
   "metadata": {
    "collapsed": true
   },
   "outputs": [],
   "source": [
    "#meta = json.loads(df.iloc[i].values[0]\n",
    "meta_1 = []\n",
    "for i in df.index:\n",
    "    meta = json.loads(df.iloc[i].values[0])\n",
    "    meta['tags']\n",
    "    meta_1.append(meta['tags'])\n",
    "    "
   ]
  },
  {
   "cell_type": "code",
   "execution_count": 22,
   "metadata": {},
   "outputs": [
    {
     "name": "stdout",
     "output_type": "stream",
     "text": [
      "[['オリジナル', 'ピクシブたん10', 'ピクシブたん', 'マニキュア', 'pixiv10周年', 'ピース', '青髪ロング', 'ガーターリング', '素晴らしすぎる', 'オリジナル5000users入り'], ['Fate/EXTELLA', 'アルテラ', '尻神様', 'アルテラ(Fate)', 'テラ美乳', 'エロ衣装', '長手袋', 'Fate/EXTELLA1000users入り', '顔を埋めたい股間', '極上の女体'], ['コードギアス', '王剣盾', 'ルルーシュ・ヴィ・ブリタニア', 'C.C.', 'コードギアス5000users入り', 'スザク', '不可能→奇跡'], ['背景', '風景', 'オリジナル', '秋', '金木犀', '川原', '鉄橋', '秋風', 'オリジナル5000users入り'], ['異世界迷宮の最深部を目指そう', 'オーバーラップ文庫', '小説家になろう', 'いぶそう', 'クリック推奨', 'いぶそう1000users入り', 'ノスフィー', 'ダークファンタジー', '小説家になろう10000users入り'], ['FGO', 'Fate/GrandOrder', '巨乳', 'スカサハ', 'たてセタ', 'リブ生地', 'Fate/GO5000users入り', 'CLIPSTUDIOPAINT', 'たくしあげ'], ['95式', '少女前線', '魅惑の谷間', '少女前线', '黒髪ロング', 'CLIPSTUDIOPAINT', '少女前線5000users入り'], ['Fate/GrandOrder', 'FGO', 'マシュ', 'マシュ・キリエライト', 'デンジャラス・ビースト', 'Fate/GO1000users入り', '尻神様', '狼耳', 'ドスケベ礼装', 'Fate/GO5000users入り'], ['少女前线', '少女前線', 'DSR-50', 'Contender', 'おっぱい'], ['オリジナル', '嫌な顔されながらおパンツ見せてもらいたいシリーズ', 'メイド', '嫌パン', '尻神様', 'ガーターベルト', 'オリジナル5000users入り', 'ニラマレ', 'クロッチ', '高品質パンツ'], ['オリジナル', 'エルフ', 'パンツ', 'エロフ', '尻神様', '金髪ロング', 'おっぱい', '腋', 'ねじ込みたい尻', 'オリジナル10000users入り'], ['Fate/GrandOrder', 'スカサハ', '魅惑の谷間', '撫で回したいお腹', 'Fate/GO5000users入り', '指を突っ込みたいへそ']]\n"
     ]
    }
   ],
   "source": [
    "print(meta_1)"
   ]
  },
  {
   "cell_type": "code",
   "execution_count": 27,
   "metadata": {},
   "outputs": [],
   "source": [
    "#list(meta_1)\n",
    "tags = str(meta_1)"
   ]
  },
  {
   "cell_type": "code",
   "execution_count": 25,
   "metadata": {},
   "outputs": [
    {
     "data": {
      "text/plain": [
       "list"
      ]
     },
     "execution_count": 25,
     "metadata": {},
     "output_type": "execute_result"
    }
   ],
   "source": [
    "type(meta_1)"
   ]
  },
  {
   "cell_type": "code",
   "execution_count": 29,
   "metadata": {},
   "outputs": [
    {
     "data": {
      "text/plain": [
       "str"
      ]
     },
     "execution_count": 29,
     "metadata": {},
     "output_type": "execute_result"
    }
   ],
   "source": [
    "type(tags)"
   ]
  },
  {
   "cell_type": "code",
   "execution_count": 39,
   "metadata": {},
   "outputs": [
    {
     "data": {
      "text/plain": [
       "[['オリジナル',\n",
       "  'ピクシブたん10',\n",
       "  'ピクシブたん',\n",
       "  'マニキュア',\n",
       "  'pixiv10周年',\n",
       "  'ピース',\n",
       "  '青髪ロング',\n",
       "  'ガーターリング',\n",
       "  '素晴らしすぎる',\n",
       "  'オリジナル5000users入り'],\n",
       " ['Fate/EXTELLA',\n",
       "  'アルテラ',\n",
       "  '尻神様',\n",
       "  'アルテラ(Fate)',\n",
       "  'テラ美乳',\n",
       "  'エロ衣装',\n",
       "  '長手袋',\n",
       "  'Fate/EXTELLA1000users入り',\n",
       "  '顔を埋めたい股間',\n",
       "  '極上の女体'],\n",
       " ['コードギアス',\n",
       "  '王剣盾',\n",
       "  'ルルーシュ・ヴィ・ブリタニア',\n",
       "  'C.C.',\n",
       "  'コードギアス5000users入り',\n",
       "  'スザク',\n",
       "  '不可能→奇跡'],\n",
       " ['背景', '風景', 'オリジナル', '秋', '金木犀', '川原', '鉄橋', '秋風', 'オリジナル5000users入り'],\n",
       " ['異世界迷宮の最深部を目指そう',\n",
       "  'オーバーラップ文庫',\n",
       "  '小説家になろう',\n",
       "  'いぶそう',\n",
       "  'クリック推奨',\n",
       "  'いぶそう1000users入り',\n",
       "  'ノスフィー',\n",
       "  'ダークファンタジー',\n",
       "  '小説家になろう10000users入り'],\n",
       " ['FGO',\n",
       "  'Fate/GrandOrder',\n",
       "  '巨乳',\n",
       "  'スカサハ',\n",
       "  'たてセタ',\n",
       "  'リブ生地',\n",
       "  'Fate/GO5000users入り',\n",
       "  'CLIPSTUDIOPAINT',\n",
       "  'たくしあげ'],\n",
       " ['95式',\n",
       "  '少女前線',\n",
       "  '魅惑の谷間',\n",
       "  '少女前线',\n",
       "  '黒髪ロング',\n",
       "  'CLIPSTUDIOPAINT',\n",
       "  '少女前線5000users入り'],\n",
       " ['Fate/GrandOrder',\n",
       "  'FGO',\n",
       "  'マシュ',\n",
       "  'マシュ・キリエライト',\n",
       "  'デンジャラス・ビースト',\n",
       "  'Fate/GO1000users入り',\n",
       "  '尻神様',\n",
       "  '狼耳',\n",
       "  'ドスケベ礼装',\n",
       "  'Fate/GO5000users入り'],\n",
       " ['少女前线', '少女前線', 'DSR-50', 'Contender', 'おっぱい'],\n",
       " ['オリジナル',\n",
       "  '嫌な顔されながらおパンツ見せてもらいたいシリーズ',\n",
       "  'メイド',\n",
       "  '嫌パン',\n",
       "  '尻神様',\n",
       "  'ガーターベルト',\n",
       "  'オリジナル5000users入り',\n",
       "  'ニラマレ',\n",
       "  'クロッチ',\n",
       "  '高品質パンツ'],\n",
       " ['オリジナル',\n",
       "  'エルフ',\n",
       "  'パンツ',\n",
       "  'エロフ',\n",
       "  '尻神様',\n",
       "  '金髪ロング',\n",
       "  'おっぱい',\n",
       "  '腋',\n",
       "  'ねじ込みたい尻',\n",
       "  'オリジナル10000users入り'],\n",
       " ['Fate/GrandOrder',\n",
       "  'スカサハ',\n",
       "  '魅惑の谷間',\n",
       "  '撫で回したいお腹',\n",
       "  'Fate/GO5000users入り',\n",
       "  '指を突っ込みたいへそ']]"
      ]
     },
     "execution_count": 39,
     "metadata": {},
     "output_type": "execute_result"
    }
   ],
   "source": [
    "meta_1"
   ]
  },
  {
   "cell_type": "code",
   "execution_count": 38,
   "metadata": {
    "scrolled": true
   },
   "outputs": [
    {
     "data": {
      "text/plain": [
       "<function TextIOWrapper.close>"
      ]
     },
     "execution_count": 38,
     "metadata": {},
     "output_type": "execute_result"
    }
   ],
   "source": [
    "f = open('tags.txt','w')\n",
    "f.writelines(tags)\n",
    "f.close"
   ]
  },
  {
   "cell_type": "code",
   "execution_count": null,
   "metadata": {
    "collapsed": true
   },
   "outputs": [],
   "source": []
  }
 ],
 "metadata": {
  "kernelspec": {
   "display_name": "Python 3",
   "language": "python",
   "name": "python3"
  },
  "language_info": {
   "codemirror_mode": {
    "name": "ipython",
    "version": 3
   },
   "file_extension": ".py",
   "mimetype": "text/x-python",
   "name": "python",
   "nbconvert_exporter": "python",
   "pygments_lexer": "ipython3",
   "version": "3.6.1"
  }
 },
 "nbformat": 4,
 "nbformat_minor": 2
}
