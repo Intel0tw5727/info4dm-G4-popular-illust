{
 "cells": [
  {
   "cell_type": "markdown",
   "metadata": {},
   "source": [
    "# Pixivpyを使用した画像クローリング"
   ]
  },
  {
   "cell_type": "code",
   "execution_count": 4,
   "metadata": {},
   "outputs": [
    {
     "name": "stdout",
     "output_type": "stream",
     "text": [
      "Artist: EdogawaKid\n",
      "Works: 90\n",
      "------------------------------------------------------------\n",
      "Procedure: 1/90:0\n",
      "Title: お部屋での二次会\n",
      "------------------------------------------------------------\n",
      "Procedure: 2/90:0\n",
      "Title: 天気雨\n",
      "------------------------------------------------------------\n",
      "Procedure: 3/90:0\n",
      "Title: 開いて、結んで。\n",
      "------------------------------------------------------------\n",
      "Procedure: 4/90:0\n",
      "Title: 鬼・ハーフエルフ討伐戦！！\n",
      "------------------------------------------------------------\n",
      "Procedure: 5/90:0\n",
      "Title: ようこそ！！異世界部へ\n",
      "------------------------------------------------------------\n"
     ]
    }
   ],
   "source": [
    "# coding: utf-8\n",
    "\n",
    "from pixivpy3 import *\n",
    "import json\n",
    "from time import sleep\n",
    "import os\n",
    "\n",
    "# ログイン処理\n",
    "api = PixivAPI()\n",
    "f = open('../client.json', 'r')\n",
    "client_info = json.load(f)\n",
    "f.close()\n",
    "# ここに直接アカウント情報を書いても大丈夫です.\n",
    "api.login(client_info['pixiv_id'], client_info['password'])\n",
    "\n",
    "# ここでIDを指定します.\n",
    "STARTID = 1000000\n",
    "ENDID = 2000000\n",
    "\n",
    "for ID in range(STARTID, ENDID):\n",
    "    # アーティスト検索から情報取得\n",
    "    try:\n",
    "        artist_pixiv_id = ID\n",
    "\n",
    "        # ここのper_pageの値を変えることで一人の絵師さんから持ってくる最大数を定義できます.\n",
    "        json_result = api.users_works(artist_pixiv_id, per_page=100)\n",
    "        info = json_result.response[0]\n",
    "        score = info.stats.score\n",
    "\n",
    "        # 僕はscoreが500以上の人を収集対象にしました.\n",
    "        # よりクオリティの高い画像のみを集めたい場合はこの閾値を変更してください.\n",
    "        if score < 5000:\n",
    "            continue\n",
    "\n",
    "        total_works = json_result.pagination.total\n",
    "        illust = json_result.response[0]\n",
    "\n",
    "        # 画像の保存先を定義しています.\n",
    "        # 特に指定先に希望がない場合はこのままでokです.\n",
    "        # このまま走らせると, このスクリプトがあるディレクトリの直下に\n",
    "        # \"pixiv_images\"フォルダが作成され画像が DLされます.\n",
    "        if not os.path.exists(\"./pixiv_images\"):\n",
    "            os.mkdir(\"./pixiv_images\")\n",
    "        saving_direcory_path = './pixiv_images'\n",
    "\n",
    "        aapi = AppPixivAPI()\n",
    "        separator = '------------------------------------------------------------'\n",
    "\n",
    "        # ダウンロード\n",
    "        print('Artist: %s' % illust.user.name)\n",
    "        print('Works: %d' % total_works)\n",
    "        print(separator)\n",
    "\n",
    "        # 絵師さんごとにディレクトリを分けたい場合は以下の２行を\n",
    "        # アンコメントアウトしてください.\n",
    "        # 一つのディレクトリにまとめたい場合はそのままでokです.\n",
    "\n",
    "        #if not os.path.exists(saving_direcory_path):\n",
    "        #    os.mkdir(saving_direcory_path)\n",
    "\n",
    "        for work_no in range(0, total_works):\n",
    "            illust = json_result.response[work_no]\n",
    "            print('Procedure: %d/%d:%d' % (work_no + 1, total_works, ID))\n",
    "            print('Title: %s' % illust.title)\n",
    "            print(separator)\n",
    "            aapi.download(illust.image_urls.large, saving_direcory_path)\n",
    "            sleep(1)\n",
    "\n",
    "        print('\\nThat\\'s all.')\n",
    "    except:\n",
    "        continue"
   ]
  },
  {
   "cell_type": "code",
   "execution_count": null,
   "metadata": {
    "collapsed": true
   },
   "outputs": [],
   "source": []
  }
 ],
 "metadata": {
  "kernelspec": {
   "display_name": "Python 3",
   "language": "python",
   "name": "python3"
  },
  "language_info": {
   "codemirror_mode": {
    "name": "ipython",
    "version": 3
   },
   "file_extension": ".py",
   "mimetype": "text/x-python",
   "name": "python",
   "nbconvert_exporter": "python",
   "pygments_lexer": "ipython3",
   "version": "3.6.2"
  }
 },
 "nbformat": 4,
 "nbformat_minor": 2
}
