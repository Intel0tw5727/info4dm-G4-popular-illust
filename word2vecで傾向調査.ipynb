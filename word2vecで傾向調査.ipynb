{
 "cells": [
  {
   "cell_type": "markdown",
   "metadata": {},
   "source": [
    "### tags_changeからmecabで分かち文を作る"
   ]
  },
  {
   "cell_type": "code",
   "execution_count": 1,
   "metadata": {
    "collapsed": true
   },
   "outputs": [],
   "source": [
    "# テキストを形態素分析してくれる\n",
    "import MeCab\n",
    "# 自然言語処理用ライブラリ・単語のベクトル表現を獲得する\n",
    "import gensim\n",
    "from collections import Counter\n",
    "import re"
   ]
  },
  {
   "cell_type": "code",
   "execution_count": 2,
   "metadata": {
    "collapsed": true
   },
   "outputs": [],
   "source": [
    "f = open('tags_change.txt','r')\n",
    "tags = f.read()"
   ]
  },
  {
   "cell_type": "code",
   "execution_count": 3,
   "metadata": {
    "scrolled": true
   },
   "outputs": [
    {
     "name": "stdout",
     "output_type": "stream",
     "text": [
      "オリジナル\n",
      "ピクシブたん10\n",
      "ピクシブたん\n",
      "マニキュア\n",
      "pixiv10周年\n",
      "ピース\n",
      "青髪ロング\n",
      "ガーターリング\n",
      "素晴らしすぎる\n",
      "オリジナル5000users入り\n",
      "Fate/EXTELLA\n",
      "アルテラ\n",
      "尻神様\n",
      "アルテラ(Fate)\n",
      "テラ美乳\n",
      "エロ衣装\n",
      "長手袋\n",
      "Fate/EXTELLA1000users入り\n",
      "顔を埋めたい股間\n",
      "極上の女体\n",
      "コードギアス\n",
      "王剣盾\n",
      "ルルーシュ・ヴィ・ブリタニア\n",
      "C.C.\n",
      "コードギアス5000users入り\n",
      "スザク\n",
      "不可能→奇跡\n",
      "背景\n",
      "風景\n",
      "オリジナル\n",
      "秋\n",
      "金木犀\n",
      "川原\n",
      "鉄橋\n",
      "秋風\n",
      "オリジナル5000users入り\n",
      "異世界迷宮の最深部を目指そう\n",
      "オーバーラップ文庫\n",
      "小説家になろう\n",
      "いぶそう\n",
      "クリック推奨\n",
      "いぶそう1000users入り\n",
      "ノスフィー\n",
      "ダークファンタジー\n",
      "小説家になろう10000users入り\n",
      "FGO\n",
      "Fate/GrandOrder\n",
      "巨乳\n",
      "スカサハ\n",
      "たてセタ\n",
      "リブ生地\n",
      "Fate/GO5000users入り\n",
      "CLIPSTUDIOPAINT\n",
      "たくしあげ\n",
      "95式\n",
      "少女前線\n",
      "魅惑の谷間\n",
      "少女前线\n",
      "黒髪ロング\n",
      "CLIPSTUDIOPAINT\n",
      "少女前線5000users入り\n",
      "Fate/GrandOrder\n",
      "FGO\n",
      "マシュ\n",
      "マシュ・キリエライト\n",
      "デンジャラス・ビースト\n",
      "Fate/GO1000users入り\n",
      "尻神様\n",
      "狼耳\n",
      "ドスケベ礼装\n",
      "Fate/GO5000users入り\n",
      "少女前线\n",
      "少女前線\n",
      "DSR-50\n",
      "Contender\n",
      "おっぱい\n",
      "オリジナル\n",
      "嫌な顔されながらおパンツ見せてもらいたいシリーズ\n",
      "メイド\n",
      "嫌パン\n",
      "尻神様\n",
      "ガーターベルト\n",
      "オリジナル5000users入り\n",
      "ニラマレ\n",
      "クロッチ\n",
      "高品質パンツ\n",
      "オリジナル\n",
      "エルフ\n",
      "パンツ\n",
      "エロフ\n",
      "尻神様\n",
      "金髪ロング\n",
      "おっぱい\n",
      "腋\n",
      "ねじ込みたい尻\n",
      "オリジナル10000users入り\n",
      "Fate/GrandOrder\n",
      "スカサハ\n",
      "魅惑の谷間\n",
      "撫で回したいお腹\n",
      "Fate/GO5000users入り\n",
      "指を突っ込みたいへそ\n"
     ]
    }
   ],
   "source": [
    "print(tags)"
   ]
  },
  {
   "cell_type": "code",
   "execution_count": 4,
   "metadata": {
    "collapsed": true,
    "scrolled": true
   },
   "outputs": [],
   "source": [
    "mecab = MeCab.Tagger(\"-Owakati -d /usr/local/lib/mecab/dic/mecab-ipadic-neologd/\")\n",
    "t = mecab.parse(tags)"
   ]
  },
  {
   "cell_type": "code",
   "execution_count": 5,
   "metadata": {
    "collapsed": true
   },
   "outputs": [],
   "source": [
    "df = open(\"tags_mecab.txt\",\"w\")\n",
    "df.write(t)\n",
    "df.close()"
   ]
  },
  {
   "cell_type": "code",
   "execution_count": 6,
   "metadata": {},
   "outputs": [
    {
     "name": "stdout",
     "output_type": "stream",
     "text": [
      "オリジナル ピクシブたん 10 ピクシブたん マニキュア pixiv 10周年 ピース 青髪 ロング ガーターリング 素晴らし すぎる オリジナル 5000 users 入り Fate/EXTELLA アルテラ 尻 神様 アルテラ ( Fate ) テラ 美乳 エロ 衣装 長手 袋 Fate/EXTELLA 1000 users 入り 顔 を 埋め たい 股間 極上 の 女体 コードギアス 王 剣 盾 ルルーシュ・ヴィ・ブリタニア C.C. コードギアス 5000 users 入り スザク 不可能 → 奇跡 背景 風景 オリジナル 秋 金木犀 川原 鉄橋 秋風 オリジナル 5000 users 入り 異世界迷宮の最深部を目指そう オーバーラップ文庫 小説家になろう いぶ そう クリック 推奨 いぶ そう 1000 users 入り ノスフィー ダークファンタジー 小説家になろう 10000 users 入り FGO Fate / GrandOrder 巨乳 スカサハ たて セタ リブ 生地 Fate / GO 5000 users 入り CLIPSTUDIOPAINT たくしあげ 95 式 少女 前線 魅惑 の 谷間 少女 前 线 黒髪 ロング CLIPSTUDIOPAINT 少女 前線 5000 users 入り Fate / GrandOrder FGO マシュ マシュ・キリエライト デンジャラス・ビースト Fate / GO 1000 users 入り 尻 神様 狼 耳 ドスケベ 礼装 Fate / GO 5000 users 入り 少女 前 线 少女 前線 DSR - 50 Contender おっぱい オリジナル 嫌 な 顔 さ れ ながら お パンツ 見せ て もらい たい シリーズ メイド 嫌 パン 尻 神様 ガーターベルト オリジナル 5000 users 入り ニラ マレ クロッチ 高品質 パンツ オリジナル エルフ パンツ エロフ 尻 神様 金髪 ロング おっぱい 腋 ねじ込み たい 尻 オリジナル 10000 users 入り Fate / GrandOrder スカサハ 魅惑 の 谷間 撫で 回し たい お腹 Fate / GO 5000 users 入り 指 を 突っ込み たい へそ \n",
      "\n"
     ]
    }
   ],
   "source": [
    "print(t)\n",
    "#t.replace('(','').replace(')','').replace\n",
    "#t.replace(' ','')"
   ]
  },
  {
   "cell_type": "code",
   "execution_count": 7,
   "metadata": {
    "collapsed": true
   },
   "outputs": [],
   "source": [
    "t1 = t.lower().replace(' / ','/').replace('-','')"
   ]
  },
  {
   "cell_type": "code",
   "execution_count": 8,
   "metadata": {},
   "outputs": [
    {
     "name": "stdout",
     "output_type": "stream",
     "text": [
      "オリジナル ピクシブたん 10 ピクシブたん マニキュア pixiv 10周年 ピース 青髪 ロング ガーターリング 素晴らし すぎる オリジナル 5000 users 入り fate/extella アルテラ 尻 神様 アルテラ ( fate ) テラ 美乳 エロ 衣装 長手 袋 fate/extella 1000 users 入り 顔 を 埋め たい 股間 極上 の 女体 コードギアス 王 剣 盾 ルルーシュ・ヴィ・ブリタニア c.c. コードギアス 5000 users 入り スザク 不可能 → 奇跡 背景 風景 オリジナル 秋 金木犀 川原 鉄橋 秋風 オリジナル 5000 users 入り 異世界迷宮の最深部を目指そう オーバーラップ文庫 小説家になろう いぶ そう クリック 推奨 いぶ そう 1000 users 入り ノスフィー ダークファンタジー 小説家になろう 10000 users 入り fgo fate/grandorder 巨乳 スカサハ たて セタ リブ 生地 fate/go 5000 users 入り clipstudiopaint たくしあげ 95 式 少女 前線 魅惑 の 谷間 少女 前 线 黒髪 ロング clipstudiopaint 少女 前線 5000 users 入り fate/grandorder fgo マシュ マシュ・キリエライト デンジャラス・ビースト fate/go 1000 users 入り 尻 神様 狼 耳 ドスケベ 礼装 fate/go 5000 users 入り 少女 前 线 少女 前線 dsr  50 contender おっぱい オリジナル 嫌 な 顔 さ れ ながら お パンツ 見せ て もらい たい シリーズ メイド 嫌 パン 尻 神様 ガーターベルト オリジナル 5000 users 入り ニラ マレ クロッチ 高品質 パンツ オリジナル エルフ パンツ エロフ 尻 神様 金髪 ロング おっぱい 腋 ねじ込み たい 尻 オリジナル 10000 users 入り fate/grandorder スカサハ 魅惑 の 谷間 撫で 回し たい お腹 fate/go 5000 users 入り 指 を 突っ込み たい へそ \n",
      "\n"
     ]
    }
   ],
   "source": [
    "print(t1)"
   ]
  },
  {
   "cell_type": "code",
   "execution_count": 9,
   "metadata": {
    "collapsed": true
   },
   "outputs": [],
   "source": [
    "words = re.split(r'\\s|\\,|\\.|\\(|\\)', t1.lower())\n",
    "count = Counter(words)"
   ]
  },
  {
   "cell_type": "code",
   "execution_count": 12,
   "metadata": {},
   "outputs": [
    {
     "name": "stdout",
     "output_type": "stream",
     "text": [
      "Counter({'users': 13, '入り': 13, 'オリジナル': 8, '5000': 8, '': 8, '尻': 5, 'たい': 5, '少女': 5, '神様': 4, 'fate/go': 4, 'ロング': 3, '1000': 3, 'の': 3, 'fate/grandorder': 3, '前線': 3, 'パンツ': 3, 'ピクシブたん': 2, 'fate/extella': 2, 'アルテラ': 2, '顔': 2, 'を': 2, 'コードギアス': 2, 'c': 2, '小説家になろう': 2, 'いぶ': 2, 'そう': 2, '10000': 2, 'fgo': 2, 'スカサハ': 2, 'clipstudiopaint': 2, '魅惑': 2, '谷間': 2, '前': 2, '线': 2, 'おっぱい': 2, '嫌': 2, '10': 1, 'マニキュア': 1, 'pixiv': 1, '10周年': 1, 'ピース': 1, '青髪': 1, 'ガーターリング': 1, '素晴らし': 1, 'すぎる': 1, 'fate': 1, 'テラ': 1, '美乳': 1, 'エロ': 1, '衣装': 1, '長手': 1, '袋': 1, '埋め': 1, '股間': 1, '極上': 1, '女体': 1, '王': 1, '剣': 1, '盾': 1, 'ルルーシュ・ヴィ・ブリタニア': 1, 'スザク': 1, '不可能': 1, '→': 1, '奇跡': 1, '背景': 1, '風景': 1, '秋': 1, '金木犀': 1, '川原': 1, '鉄橋': 1, '秋風': 1, '異世界迷宮の最深部を目指そう': 1, 'オーバーラップ文庫': 1, 'クリック': 1, '推奨': 1, 'ノスフィー': 1, 'ダークファンタジー': 1, '巨乳': 1, 'たて': 1, 'セタ': 1, 'リブ': 1, '生地': 1, 'たくしあげ': 1, '95': 1, '式': 1, '黒髪': 1, 'マシュ': 1, 'マシュ・キリエライト': 1, 'デンジャラス・ビースト': 1, '狼': 1, '耳': 1, 'ドスケベ': 1, '礼装': 1, 'dsr': 1, '50': 1, 'contender': 1, 'な': 1, 'さ': 1, 'れ': 1, 'ながら': 1, 'お': 1, '見せ': 1, 'て': 1, 'もらい': 1, 'シリーズ': 1, 'メイド': 1, 'パン': 1, 'ガーターベルト': 1, 'ニラ': 1, 'マレ': 1, 'クロッチ': 1, '高品質': 1, 'エルフ': 1, 'エロフ': 1, '金髪': 1, '腋': 1, 'ねじ込み': 1, '撫で': 1, '回し': 1, 'お腹': 1, '指': 1, '突っ込み': 1, 'へそ': 1})\n"
     ]
    }
   ],
   "source": [
    "print(count)\n",
    "#print(words)"
   ]
  },
  {
   "cell_type": "code",
   "execution_count": 13,
   "metadata": {
    "scrolled": true
   },
   "outputs": [
    {
     "data": {
      "text/plain": [
       "Counter({'': 8,\n",
       "         '10': 1,\n",
       "         '1000': 3,\n",
       "         '10000': 2,\n",
       "         '10周年': 1,\n",
       "         '50': 1,\n",
       "         '5000': 8,\n",
       "         '95': 1,\n",
       "         'c': 2,\n",
       "         'clipstudiopaint': 2,\n",
       "         'contender': 1,\n",
       "         'dsr': 1,\n",
       "         'fate': 1,\n",
       "         'fate/extella': 2,\n",
       "         'fate/go': 4,\n",
       "         'fate/grandorder': 3,\n",
       "         'fgo': 2,\n",
       "         'pixiv': 1,\n",
       "         'users': 13,\n",
       "         '→': 1,\n",
       "         'いぶ': 2,\n",
       "         'お': 1,\n",
       "         'おっぱい': 2,\n",
       "         'お腹': 1,\n",
       "         'さ': 1,\n",
       "         'すぎる': 1,\n",
       "         'そう': 2,\n",
       "         'たい': 5,\n",
       "         'たくしあげ': 1,\n",
       "         'たて': 1,\n",
       "         'て': 1,\n",
       "         'な': 1,\n",
       "         'ながら': 1,\n",
       "         'ねじ込み': 1,\n",
       "         'の': 3,\n",
       "         'へそ': 1,\n",
       "         'もらい': 1,\n",
       "         'れ': 1,\n",
       "         'を': 2,\n",
       "         'アルテラ': 2,\n",
       "         'エルフ': 1,\n",
       "         'エロ': 1,\n",
       "         'エロフ': 1,\n",
       "         'オリジナル': 8,\n",
       "         'オーバーラップ文庫': 1,\n",
       "         'ガーターベルト': 1,\n",
       "         'ガーターリング': 1,\n",
       "         'クリック': 1,\n",
       "         'クロッチ': 1,\n",
       "         'コードギアス': 2,\n",
       "         'シリーズ': 1,\n",
       "         'スカサハ': 2,\n",
       "         'スザク': 1,\n",
       "         'セタ': 1,\n",
       "         'ダークファンタジー': 1,\n",
       "         'テラ': 1,\n",
       "         'デンジャラス・ビースト': 1,\n",
       "         'ドスケベ': 1,\n",
       "         'ニラ': 1,\n",
       "         'ノスフィー': 1,\n",
       "         'パン': 1,\n",
       "         'パンツ': 3,\n",
       "         'ピクシブたん': 2,\n",
       "         'ピース': 1,\n",
       "         'マシュ': 1,\n",
       "         'マシュ・キリエライト': 1,\n",
       "         'マニキュア': 1,\n",
       "         'マレ': 1,\n",
       "         'メイド': 1,\n",
       "         'リブ': 1,\n",
       "         'ルルーシュ・ヴィ・ブリタニア': 1,\n",
       "         'ロング': 3,\n",
       "         '不可能': 1,\n",
       "         '入り': 13,\n",
       "         '前': 2,\n",
       "         '前線': 3,\n",
       "         '剣': 1,\n",
       "         '回し': 1,\n",
       "         '埋め': 1,\n",
       "         '奇跡': 1,\n",
       "         '女体': 1,\n",
       "         '嫌': 2,\n",
       "         '小説家になろう': 2,\n",
       "         '少女': 5,\n",
       "         '尻': 5,\n",
       "         '川原': 1,\n",
       "         '巨乳': 1,\n",
       "         '式': 1,\n",
       "         '指': 1,\n",
       "         '推奨': 1,\n",
       "         '撫で': 1,\n",
       "         '極上': 1,\n",
       "         '狼': 1,\n",
       "         '王': 1,\n",
       "         '生地': 1,\n",
       "         '異世界迷宮の最深部を目指そう': 1,\n",
       "         '盾': 1,\n",
       "         '礼装': 1,\n",
       "         '神様': 4,\n",
       "         '秋': 1,\n",
       "         '秋風': 1,\n",
       "         '突っ込み': 1,\n",
       "         '素晴らし': 1,\n",
       "         '线': 2,\n",
       "         '美乳': 1,\n",
       "         '耳': 1,\n",
       "         '股間': 1,\n",
       "         '背景': 1,\n",
       "         '腋': 1,\n",
       "         '衣装': 1,\n",
       "         '袋': 1,\n",
       "         '見せ': 1,\n",
       "         '谷間': 2,\n",
       "         '金木犀': 1,\n",
       "         '金髪': 1,\n",
       "         '鉄橋': 1,\n",
       "         '長手': 1,\n",
       "         '青髪': 1,\n",
       "         '顔': 2,\n",
       "         '風景': 1,\n",
       "         '高品質': 1,\n",
       "         '魅惑': 2,\n",
       "         '黒髪': 1})"
      ]
     },
     "execution_count": 13,
     "metadata": {},
     "output_type": "execute_result"
    }
   ],
   "source": [
    "count"
   ]
  },
  {
   "cell_type": "code",
   "execution_count": null,
   "metadata": {
    "collapsed": true
   },
   "outputs": [],
   "source": []
  }
 ],
 "metadata": {
  "kernelspec": {
   "display_name": "Python 3",
   "language": "python",
   "name": "python3"
  },
  "language_info": {
   "codemirror_mode": {
    "name": "ipython",
    "version": 3
   },
   "file_extension": ".py",
   "mimetype": "text/x-python",
   "name": "python",
   "nbconvert_exporter": "python",
   "pygments_lexer": "ipython3",
   "version": "3.6.1"
  }
 },
 "nbformat": 4,
 "nbformat_minor": 2
}
